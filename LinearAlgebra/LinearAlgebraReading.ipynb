{
 "cells": [
  {
   "metadata": {},
   "cell_type": "markdown",
   "source": [
    "__Books__\n",
    "\n",
    "In the UK, we tend to write our courses from scratch based on what we think is important to include and introduce things in the order we think presents the material in the most elegant and illuminating way - we don't just go through a particular set textbook. So there isn't an exact 'model text' that we are following in this course. But, our way of thinking about things is informed by the textbooks we use, the teachers who taught us, how we use things in research and by interactions with our own students - so of course all sorts of textbooks are useful.\n",
    "\n",
    "1. In Imperial Engineering, our primary maths textbook is probably the ever-popular and accessible Mathematical Methods in the Physical Sciences by Mary L Boas, John Wiley and Sons, 3rd Ed, 2006. Linear Algebra is in Chapter 3.  Most Engineering maths textbooks are also useful, although they often teach 'vectors and matrices' rather than viewing linear algebra as an integrated whole.\n",
    "\n",
    "2. In US graduate school classes people often use Introduction to Linear Algebra by Gilbert Strang, Wellesley-Cambridge Press, 5th Ed, 2016. \n",
    "http://math.mit.edu/~gs/linearalgebra/\n",
    "\n",
    "__Web Resources__\n",
    "\n",
    "There are, of course, a whole bunch of useful web resources on linear algebra - many of which were helpful to us in preparing this course! These might also be handy to you - typically they go a bit slower or have a different emphasis or way of explaining things, but it can be handy to see how someone else explains something.\n",
    "\n",
    "1. Khan Academy is a great resource right up to 1st or 2nd year undergraduate material. For this course, there's a handy group of videos at \n",
    "https://www.khanacademy.org/math/linear-algebra\n",
    "\n",
    "2. Grant Sanderson has a great series of videos developing mathematical intuition on YouTube, which you can reach through his site \n",
    "http://www.3blue1brown.com\n",
    "\n",
    "3. Wikipedia gets better every year - and the linear algebra wikipedia pages are actually pretty good. \n",
    "https://en.wikipedia.org/wiki/Linear_algebra\n",
    "\n"
   ],
   "id": "7a8c252348a44f80"
  }
 ],
 "metadata": {
  "kernelspec": {
   "display_name": "Python 3",
   "language": "python",
   "name": "python3"
  },
  "language_info": {
   "codemirror_mode": {
    "name": "ipython",
    "version": 2
   },
   "file_extension": ".py",
   "mimetype": "text/x-python",
   "name": "python",
   "nbconvert_exporter": "python",
   "pygments_lexer": "ipython2",
   "version": "2.7.6"
  }
 },
 "nbformat": 4,
 "nbformat_minor": 5
}
