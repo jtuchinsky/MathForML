{
  "nbformat": 4,
  "nbformat_minor": 0,
  "metadata": {
    "colab": {
      "provenance": [],
      "authorship_tag": "ABX9TyNOOT7D4lxdwnHMoly1oaJ8",
      "include_colab_link": true
    },
    "kernelspec": {
      "name": "python3",
      "display_name": "Python 3"
    },
    "language_info": {
      "name": "python"
    }
  },
  "cells": [
    {
      "cell_type": "markdown",
      "metadata": {
        "id": "view-in-github",
        "colab_type": "text"
      },
      "source": [
        "<a href=\"https://colab.research.google.com/github/jtuchinsky/MathForML/blob/main/Linear_Algebra_Vectors_.ipynb\" target=\"_parent\"><img src=\"https://colab.research.google.com/assets/colab-badge.svg\" alt=\"Open In Colab\"/></a>"
      ]
    },
    {
      "cell_type": "code",
      "execution_count": null,
      "metadata": {
        "id": "zH7Oh8BKuO4h"
      },
      "outputs": [],
      "source": [
        "from math import sqrt, pi, ceil, floor\n",
        "import matplotlib\n",
        "import matplotlib.patches\n",
        "from matplotlib.collections import PatchCollection\n",
        "\n",
        "\n",
        "import numpy as np\n",
        "import matplotlib.pyplot as plt\n",
        "from matplotlib.pyplot import xlim, ylim\n",
        "\n",
        "blue = 'C0'\n",
        "black = 'k'\n",
        "red = 'C3'\n",
        "green = 'C2'\n",
        "purple = 'C4'\n",
        "orange = 'C2'\n",
        "gray = 'gray'\n",
        "\n",
        "class Polygon():\n",
        "    def __init__(self, *vertices, color=blue, fill=None, alpha=0.4):\n",
        "        self.vertices = vertices\n",
        "        self.color = color\n",
        "        self.fill = fill\n",
        "        self.alpha = alpha\n",
        "\n",
        "class Points():\n",
        "    def __init__(self, *vectors, color=black):\n",
        "        self.vectors = list(vectors)\n",
        "        self.color = color\n",
        "\n",
        "class Arrow():\n",
        "    def __init__(self, tip, tail=(0,0), color=red):\n",
        "        self.tip = tip\n",
        "        self.tail = tail\n",
        "        self.color = color\n",
        "\n",
        "class Segment():\n",
        "    def __init__(self, start_point, end_point, color=blue):\n",
        "        self.start_point = start_point\n",
        "        self.end_point = end_point\n",
        "        self.color = color\n",
        "\n",
        "# helper function to extract all the vectors from a list of objects\n",
        "def extract_vectors(objects):\n",
        "    for object in objects:\n",
        "        if type(object) == Polygon:\n",
        "            for v in object.vertices:\n",
        "                yield v\n",
        "        elif type(object) == Points:\n",
        "            for v in object.vectors:\n",
        "                yield v\n",
        "        elif type(object) == Arrow:\n",
        "            yield object.tip\n",
        "            yield object.tail\n",
        "        elif type(object) == Segment:\n",
        "            yield object.start_point\n",
        "            yield object.end_point\n",
        "        else:\n",
        "            raise TypeError(\"Unrecognized object: {}\".format(object))\n",
        "\n",
        "def draw(*objects, origin=True, axes=True, grid=(1,1), nice_aspect_ratio=True,\n",
        "            width=6, save_as=None):\n",
        "\n",
        "    all_vectors = list(extract_vectors(objects))\n",
        "    xs, ys = zip(*all_vectors)\n",
        "\n",
        "    max_x, max_y, min_x, min_y = max(0,*xs), max(0,*ys), min(0,*xs), min(0,*ys)\n",
        "\n",
        "    #sizing\n",
        "    if grid:\n",
        "        x_padding = max(ceil(0.05*(max_x-min_x)), grid[0])\n",
        "        y_padding = max(ceil(0.05*(max_y-min_y)), grid[1])\n",
        "\n",
        "        def round_up_to_multiple(val,size):\n",
        "            return floor((val + size) / size) * size\n",
        "\n",
        "        def round_down_to_multiple(val,size):\n",
        "            return -floor((-val - size) / size) * size\n",
        "\n",
        "        plt.xlim(floor((min_x - x_padding) / grid[0]) * grid[0],\n",
        "                ceil((max_x + x_padding) / grid[0]) * grid[0])\n",
        "        plt.ylim(floor((min_y - y_padding) / grid[1]) * grid[1],\n",
        "                ceil((max_y + y_padding) / grid[1]) * grid[1])\n",
        "\n",
        "    if origin:\n",
        "        plt.scatter([0],[0], color='k', marker='x')\n",
        "\n",
        "    if grid:\n",
        "        plt.gca().set_xticks(np.arange(plt.xlim()[0],plt.xlim()[1],grid[0]))\n",
        "        plt.gca().set_yticks(np.arange(plt.ylim()[0],plt.ylim()[1],grid[1]))\n",
        "        plt.grid(True)\n",
        "        plt.gca().set_axisbelow(True)\n",
        "\n",
        "    if axes:\n",
        "        plt.gca().axhline(linewidth=2, color='k')\n",
        "        plt.gca().axvline(linewidth=2, color='k')\n",
        "\n",
        "    for object in objects:\n",
        "        if type(object) == Polygon:\n",
        "            for i in range(0,len(object.vertices)):\n",
        "                x1, y1 = object.vertices[i]\n",
        "                x2, y2 = object.vertices[(i+1)%len(object.vertices)]\n",
        "                plt.plot([x1,x2],[y1,y2], color=object.color)\n",
        "            if object.fill:\n",
        "                xs = [v[0] for v in object.vertices]\n",
        "                ys = [v[1] for v in object.vertices]\n",
        "                plt.gca().fill(xs,ys,object.fill,alpha=object.alpha)\n",
        "        elif type(object) == Points:\n",
        "            xs = [v[0] for v in object.vectors]\n",
        "            ys = [v[1] for v in object.vectors]\n",
        "            plt.scatter(xs,ys,color=object.color)\n",
        "        elif type(object) == Arrow:\n",
        "            tip, tail = object.tip, object.tail\n",
        "            tip_length = (xlim()[1] - xlim()[0]) / 20.\n",
        "            length = sqrt((tip[1]-tail[1])**2 + (tip[0]-tail[0])**2)\n",
        "            new_length = length - tip_length\n",
        "            new_y = (tip[1] - tail[1]) * (new_length / length)\n",
        "            new_x = (tip[0] - tail[0]) * (new_length / length)\n",
        "            plt.gca().arrow(tail[0], tail[1], new_x, new_y,\n",
        "            head_width=tip_length/1.5, head_length=tip_length,\n",
        "            fc=object.color, ec=object.color)\n",
        "        elif type(object) == Segment:\n",
        "            x1, y1 = object.start_point\n",
        "            x2, y2 = object.end_point\n",
        "            plt.plot([x1,x2],[y1,y2], color=object.color)\n",
        "        else:\n",
        "            raise TypeError(\"Unrecognized object: {}\".format(object))\n",
        "\n",
        "    fig = matplotlib.pyplot.gcf()\n",
        "\n",
        "    if nice_aspect_ratio:\n",
        "        coords_height = (ylim()[1] - ylim()[0])\n",
        "        coords_width = (xlim()[1] - xlim()[0])\n",
        "        fig.set_size_inches(width , width * coords_height / coords_width)\n",
        "\n",
        "    if save_as:\n",
        "        plt.savefig(save_as)\n",
        "\n",
        "    plt.show()"
      ]
    },
    {
      "cell_type": "markdown",
      "source": [
        "# Vectors"
      ],
      "metadata": {
        "id": "wr5IlM-lujhi"
      }
    },
    {
      "cell_type": "markdown",
      "source": [
        "## What Is Vector\n",
        "\n",
        "Simply put, a vector is an arrow in space with a specific direction and length, often\n",
        "representing a piece of data."
      ],
      "metadata": {
        "id": "IT_OEyGRuubm"
      }
    },
    {
      "cell_type": "markdown",
      "source": [
        "### Declaring vector in Python using *numpy*"
      ],
      "metadata": {
        "id": "9azLkkw4vA6x"
      }
    },
    {
      "cell_type": "code",
      "source": [
        "import numpy as np\n",
        "v = np.array([1, 2, 3])\n",
        "print(v)"
      ],
      "metadata": {
        "colab": {
          "base_uri": "https://localhost:8080/"
        },
        "id": "1sc22lsFvNcn",
        "outputId": "ebfcf89c-70e3-4188-d0df-18c5a246b7e7"
      },
      "execution_count": null,
      "outputs": [
        {
          "output_type": "stream",
          "name": "stdout",
          "text": [
            "[1 2 3]\n"
          ]
        }
      ]
    },
    {
      "cell_type": "markdown",
      "source": [
        "## Adding and Combining Vectors\n",
        "\n",
        "$$\\vec{u} = \\begin{pmatrix}\n",
        "a \\\\ b\\\\\n",
        "\\end{pmatrix},\n",
        "\\vec{v} = \\begin{pmatrix}\n",
        "c \\\\ d\\\\\n",
        "\\end{pmatrix}\n",
        "$$\n",
        "\n",
        "Then,\n",
        "$$\\vec{u} + \\vec{v} = \\begin{pmatrix}\n",
        "a+c \\\\ b+d\\\\\n",
        "\\end{pmatrix}\n",
        "$$"
      ],
      "metadata": {
        "id": "ItpKurkuwKON"
      }
    },
    {
      "cell_type": "code",
      "source": [
        "u = np.array([4,2])\n",
        "v = np.array([3,1])\n",
        "\n",
        "u_plus_v = u+v\n",
        "print(u_plus_v)\n",
        "\n",
        "draw(\n",
        "    Arrow(u_plus_v, color=red),\n",
        "    Arrow(u, color=blue),\n",
        "    Arrow(v, color=green))"
      ],
      "metadata": {
        "colab": {
          "base_uri": "https://localhost:8080/",
          "height": 334
        },
        "id": "g3LXaSwj58yz",
        "outputId": "0800039a-7a59-499b-a907-c65b704c856d"
      },
      "execution_count": null,
      "outputs": [
        {
          "output_type": "stream",
          "name": "stdout",
          "text": [
            "[7 3]\n"
          ]
        },
        {
          "output_type": "display_data",
          "data": {
            "text/plain": [
              "<Figure size 600x333.333 with 1 Axes>"
            ],
            "image/png": "[encoded data removed]"
          },
          "metadata": {}
        }
      ]
    },
    {
      "cell_type": "markdown",
      "source": [
        "## Scaling Vectors\n",
        "\n",
        "*Scaling* is growing or shrinking a vector’s length. You can grow/shrink a vector by multiplying or scaling it with a single value, known as a *scalar*.\n",
        "\n",
        "$$\\vec{u} = \\begin{pmatrix}\n",
        "a \\\\ b\\\\\n",
        "\\end{pmatrix},\n",
        "\\\\s*\\vec{v} = \\begin{pmatrix}\n",
        "a*s \\\\ b*s\\\\\n",
        "\\end{pmatrix}\n",
        "$$"
      ],
      "metadata": {
        "id": "xtAi6JDa9o5g"
      }
    },
    {
      "cell_type": "code",
      "source": [
        "u = np.array([3,2])\n",
        "s = 2\n",
        "\n",
        "u_scaled = s*u\n",
        "print(u_scaled)\n",
        "\n",
        "draw(Arrow(u_scaled, color=red), Arrow(u, color=blue))\n"
      ],
      "metadata": {
        "colab": {
          "base_uri": "https://localhost:8080/",
          "height": 424
        },
        "id": "uaThMI3_-qQi",
        "outputId": "4a8bc64c-9cde-44e5-c1a3-2b78336f0d62"
      },
      "execution_count": null,
      "outputs": [
        {
          "output_type": "stream",
          "name": "stdout",
          "text": [
            "[6 4]\n"
          ]
        },
        {
          "output_type": "display_data",
          "data": {
            "text/plain": [
              "<Figure size 600x450 with 1 Axes>"
            ],
            "image/png": "[encoded data removed]"
          },
          "metadata": {}
        }
      ]
    },
    {
      "cell_type": "markdown",
      "source": [
        "## Scalar Product of Two Vectors\n",
        "The dot product (also called the *inner product*) is an operation on two vectors that\n",
        "returns a scalar.\n",
        "\n",
        "Given\n",
        "$$\n",
        "\\vec{u} = (u_1, u_2, ..., u_n)\\\\\n",
        "\\vec{v} = (v_1, v_2, ..., v_n)\\\\\n",
        "$$\n",
        "\n",
        "Then,\n",
        "$$\\vec(u) \\odot \\vec(v) = \\Sigma_1^n u_n*v_n\n",
        "$$\n",
        "\n",
        "\n",
        "The scalar product of two vectors v and u with magnitude |v| and |u| is given as $|u|*|v|*cos(Θ)$\n",
        "where  $\\Theta$ is an angle between two vectors.\n"
      ],
      "metadata": {
        "id": "2-l2Nzkuj7oN"
      }
    },
    {
      "cell_type": "markdown",
      "source": [
        "## Change of Coordinates Matrix\n",
        "Let $\\mathbf{B} = \\{u, v\\}$ and $\\mathbf{B^{\\prime}} = \\{u^{\\prime}, v^{\\prime}\\}$ be two bases for $\\mathbf{R^2}$\n",
        "\n",
        "If\n",
        "$\\vec{u_B} = \\begin{pmatrix}\n",
        "a \\\\ b\\\\\n",
        "\\end{pmatrix}, \\text{and}\\space\n",
        "\\vec{v_B} = \\begin{pmatrix}\n",
        "c \\\\ d\\\\\n",
        "\\end{pmatrix}\n",
        "$\n",
        "\n",
        "Then,\n",
        "$\\mathbf{P} = \\begin{pmatrix}\n",
        "a & c\\\\\n",
        "b & d\\\\\n",
        "\\end{pmatrix}\n",
        "$ is the **change of coordinates matrix** from $\\mathbf{B}$ to $\\mathbf{B^{\\prime}}$.\n",
        "\n",
        "That is for any $\\mathbf{v} \\in \\mathbf{V}$,  \n",
        "$$\n",
        "\\mathbf{[v]_B}\\space= \\mathbf{P * [v]_{B^{\\prime}}}\\\\\n",
        "\\mathbf{[v]_{B^{\\prime}}} = \\mathbf{P^{-1} * [v]_B}\\\\\n",
        "$$\n"
      ],
      "metadata": {
        "id": "kud9en2MDNVY"
      }
    },
    {
      "cell_type": "markdown",
      "source": [
        "### Example\n",
        "\n",
        "Let\n",
        "$B =\n",
        "\\begin{Bmatrix}\n",
        "\\begin{bmatrix}\n",
        "1 \\\\ 0\\\\\n",
        "\\end{bmatrix} &\n",
        "\\begin{bmatrix}\n",
        "0 \\\\ 1\\\\\n",
        "\\end{bmatrix}\n",
        "\\end{Bmatrix}\n",
        "\\text{, and }\n",
        "B^{\\prime} =\n",
        "\\begin{Bmatrix}\n",
        "\\begin{bmatrix}\n",
        "3 \\\\ 1\\\\\n",
        "\\end{bmatrix} &\n",
        "\\begin{bmatrix}\n",
        "-2 \\\\ 1\\\\\n",
        "\\end{bmatrix}\n",
        "\\end{Bmatrix}\n",
        "$.\n",
        "The vector **v** with coordinates $[v]_{B^{\\prime}} = \\begin{bmatrix}2\\\\1 \\end{bmatrix}$ relative to the basis $B^{\\prime}$ has coordinates\n",
        "$$\n",
        "[v]_B =\n",
        "\\begin{bmatrix}\n",
        "3 & -2\\\\\n",
        "1 &1\n",
        "\\end{bmatrix}\n",
        "\\begin{bmatrix}\n",
        "2\\\\1\n",
        "\\end{bmatrix} =\n",
        "\\begin{bmatrix}\n",
        "4\\\\3\n",
        "\\end{bmatrix}\n",
        "$$\n",
        "relative to the basis **B**.\n",
        "\n",
        "\n"
      ],
      "metadata": {
        "id": "9PlxFtFx_HaT"
      }
    },
    {
      "cell_type": "code",
      "source": [
        "# Original vector\n",
        "v = np.array([3,2])\n",
        "\n",
        "# Original basis vectors\n",
        "B1 = np.array([[1,0], [0,1]])\n",
        "\n",
        "# New basis vector\n",
        "B2 = np.array([[1, 1],[1, -1]])\n",
        "\n",
        "# This matrix transforms vectors from the new basis to the old basis.\n",
        "# It's simply the matrix with the new basis vectors as columns.\n",
        "C = np.column_stack(B2)\n",
        "\n",
        "# This matrix transforms vectors from the old basis to the new basis.\n",
        "# It's simply the inverse of the change of coordinates matrix.\n",
        "C_inv = np.linalg.inv(C)\n",
        "\n",
        "#  Transform the vector to new basis\n",
        "v_new = C_inv @ v\n",
        "\n",
        "print(v_new)"
      ],
      "metadata": {
        "colab": {
          "base_uri": "https://localhost:8080/"
        },
        "id": "7E4c-mm99Fde",
        "outputId": "a09fa777-0e83-4462-c9a6-c96962bb91ad"
      },
      "execution_count": null,
      "outputs": [
        {
          "output_type": "stream",
          "name": "stdout",
          "text": [
            "[2.5 0.5]\n"
          ]
        }
      ]
    },
    {
      "cell_type": "code",
      "source": [],
      "metadata": {
        "id": "KQKz5C3O1Ot4"
      },
      "execution_count": null,
      "outputs": []
    },
    {
      "cell_type": "code",
      "source": [],
      "metadata": {
        "id": "A6jpLX9vAesg"
      },
      "execution_count": null,
      "outputs": []
    }
  ]
}